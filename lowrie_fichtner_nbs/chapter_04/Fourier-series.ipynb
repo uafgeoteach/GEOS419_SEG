{
 "cells": [
  {
   "cell_type": "markdown",
   "metadata": {},
   "source": [
    "# Fourier series\n",
    "\n",
    "In this exercise, we study the Fourier series of a function, e.g., a gravity anomaly $\\Delta g$ defined along a profile in $x-$direction. First, we will compute and interpret the Fourier coefficients, and then we will try to reconstruct the function itself using a limited number of Fourier coefficients."
   ]
  },
  {
   "cell_type": "markdown",
   "metadata": {},
   "source": [
    "## 0. Import Python packages and define gravitational constant\n",
    "\n",
    "We start by importing some Python packages."
   ]
  },
  {
   "cell_type": "code",
   "execution_count": 2,
   "metadata": {
    "collapsed": true
   },
   "outputs": [],
   "source": [
    "import numpy as np\n",
    "import matplotlib.pyplot as plt"
   ]
  },
  {
   "cell_type": "markdown",
   "metadata": {},
   "source": [
    "## 1. Definition of a test function\n",
    "\n",
    "**As a first step, we define some test function for which we will later compute the Fourier coefficients.** In the interest of an intuitive interpretation, we will interpret this function in terms of some measured gravity anomaly. For simplcity, $x$ ranges between -1 m and 1 m in discrete steps of 0.002 m."
   ]
  },
  {
   "cell_type": "code",
   "execution_count": 56,
   "metadata": {},
   "outputs": [
    {
     "data": {
      "image/png": "[encoded data removed]",
      "text/plain": [
       "<Figure size 432x288 with 1 Axes>"
      ]
     },
     "metadata": {},
     "output_type": "display_data"
    }
   ],
   "source": [
    "x=np.linspace(-1.0,1.0,1001)\n",
    "dg=np.zeros(len(x))\n",
    "dg[400:600]=1.0\n",
    "\n",
    "plt.plot(x,dg)\n",
    "plt.xlabel('$x$ [m]')\n",
    "plt.ylabel(r'$\\Delta g$ [m/s$^2$]')\n",
    "plt.show()"
   ]
  },
  {
   "cell_type": "markdown",
   "metadata": {},
   "source": [
    "## 2. Analysis\n",
    "\n",
    "**The computation of the Fourier coefficients $a_n$ and $b_n$ is commonly referred to as *analysis*.** Using Eqs. (7) and (8) of Box 4.4, we compute the first 10 coefficients. The integrals are approximated by a sum over the discrete values along the $x$-axis."
   ]
  },
  {
   "cell_type": "code",
   "execution_count": 58,
   "metadata": {},
   "outputs": [],
   "source": [
    "N=10\n",
    "a=np.zeros(N)\n",
    "b=np.zeros(N)\n",
    "\n",
    "for n in range(N):\n",
    "    a[n]=0.002*np.sum(dg*np.cos(n*np.pi*x))\n",
    "    b[n]=0.002*np.sum(dg*np.sin(n*np.pi*x))"
   ]
  },
  {
   "cell_type": "markdown",
   "metadata": {},
   "source": [
    "## 3. Synthesis\n",
    "\n",
    "**The reconstruction of a function using the Fourier coefficients is called *synthesis*.** Using Eq. (3) of Box 4.4, we synthesize $\\Delta g(x)$. The reconstruction is only approximate because only a small number of Fourier coefficients has been used."
   ]
  },
  {
   "cell_type": "code",
   "execution_count": 59,
   "metadata": {},
   "outputs": [],
   "source": [
    "f=0.5*b[0]*np.ones(len(x))\n",
    "\n",
    "for n in range(N):\n",
    "    f=f+a[n]*np.cos(n*np.pi*x)+b[n]*np.sin(n*np.pi*x)"
   ]
  },
  {
   "cell_type": "markdown",
   "metadata": {},
   "source": [
    "## 4. Exercises"
   ]
  },
  {
   "cell_type": "markdown",
   "metadata": {},
   "source": [
    "1) Plot the Fourier coefficients $a_n$ and $b_n$ computed in step 2, and the reconstructed function computed in step 3. Explain why the reconstructed function seems to be a smoother version of the original $\\Delta g$.\n",
    "\n",
    "2) Increase the number of Fourier coefficients to $N=200$. Does the reconstruction of the function generally improve? Are there specific parts of the function where the reconstruction is still poor? \n",
    "\n",
    "3) With the help of Fourier analysis, we can *filter* a function. Implement a *high-pass filter* that only retains the higher wavenumbers of the function by removing $a_0$ from the Fourier synthesis. What happens to the reconstruction when even more coefficients with small indices $n$ are removed? \n",
    "\n",
    "4) **Optional:** Modify the above calculations such that the length of the profile (the range of $x$) can be chosen freely."
   ]
  }
 ],
 "metadata": {
  "kernelspec": {
   "display_name": "Python 3",
   "language": "python",
   "name": "python3"
  },
  "language_info": {
   "codemirror_mode": {
    "name": "ipython",
    "version": 3
   },
   "file_extension": ".py",
   "mimetype": "text/x-python",
   "name": "python",
   "nbconvert_exporter": "python",
   "pygments_lexer": "ipython3",
   "version": "3.6.3"
  }
 },
 "nbformat": 4,
 "nbformat_minor": 2
}
