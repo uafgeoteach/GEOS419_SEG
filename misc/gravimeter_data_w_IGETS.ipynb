{
 "cells": [
  {
   "cell_type": "markdown",
   "id": "6638c17a-db76-407f-94e6-ea57d24d544b",
   "metadata": {},
   "source": [
    "# Importing Superconducting Gravimeter (SG) data from IGETS\n",
    "Version 2.0  - April 7, 2025  \n",
    "Created by Chris Linick (Jackson School of Geosciences, UT Austin; clinick@utexas.edu)  \n",
    "Modified by Bryant Chow (University of Alaska Fairbanks; UAF) for UAF GEOS419 - Solid Earth Geophysics  \n",
    "\n",
    "- This notebook helps you connect to the IGETS database, browse its contents, download gravity data files, and then make plots. \n",
    "- Note that Level 3 files, and possibly level 2, are probably most desirable. Level 1 data requires intensive cleaning.\n",
    "- [What do the levels mean?](https://isdc.gfz.de/fileadmin/isdc/docs/EOSTproducts_v2.pdf)\n",
    "\n"
   ]
  },
  {
   "cell_type": "code",
   "execution_count": null,
   "id": "40a72216-5140-4cf0-87eb-f47f8ae86fe8",
   "metadata": {},
   "outputs": [],
   "source": [
    "import os\n",
    "import paramiko  # for connecting to IGETS server via sftp\n",
    "import numpy as np\n",
    "import traceback\n",
    "import matplotlib.pyplot as plt \n",
    "from datetime import datetime"
   ]
  },
  {
   "cell_type": "markdown",
   "id": "9985e1fa-dba5-40e0-a66f-5a4fea8da61e",
   "metadata": {},
   "source": [
    "## Step 1: Connect to Server\n",
    "1) Sign up for an IGETS account (confirmation is immediate): https://isdc.gfz.de/igets-data-base/\n",
    "2) Wait to receive confirmation email that will provide you your `username`, which is a variation of your input email.\n",
    "3) Change the 3 variables (`username`, `password`, `save_location_local`) in the code box below to match your credentials.\n",
    "4) If authentication fails, check your username and password, and your internet connection.\n",
    "5) If succesful, a list of stations in the IGETS database should be printed out."
   ]
  },
  {
   "cell_type": "code",
   "execution_count": null,
   "id": "0a9a07b5-9ac7-4f3d-b9da-4a6c5f5cc061",
   "metadata": {},
   "outputs": [],
   "source": [
    "username = \"\"  # <- Input your username\n",
    "password = \"\"  # <- Input your password\n",
    "save_location_local = \"./\" # <- Determine where files will be saved"
   ]
  },
  {
   "cell_type": "code",
   "execution_count": null,
   "id": "caf9acc4-a11f-4f70-9cbc-a3eb48351b54",
   "metadata": {},
   "outputs": [],
   "source": [
    "# Establish connection to the server, do not change anything in this code block\n",
    "server = \"igetsftp.gfz.de\"\n",
    "try:\n",
    "    # Establish SSH client\n",
    "    ssh = paramiko.SSHClient()\n",
    "    ssh.set_missing_host_key_policy(paramiko.AutoAddPolicy())\n",
    "\n",
    "    # Connect to server\n",
    "    ssh.connect(server, username=username, password=password)\n",
    "    \n",
    "    # Open SFTP session\n",
    "    sftp = ssh.open_sftp()\n",
    "    \n",
    "    # List contents of the top directory\n",
    "    contents = sftp.listdir(\"/\")\n",
    "    \n",
    "    print(\"Contents of the top directory:\")\n",
    "    print(contents)\n",
    "except Exception as e:\n",
    "    traceback.print_exc()\n",
    "    print(f\"Error: {e}\")"
   ]
  },
  {
   "cell_type": "markdown",
   "id": "89ec7a32-98be-4b0d-b579-f78a3a9496d8",
   "metadata": {},
   "source": [
    "## Step 2: Browse for the SG data you want.\n",
    "- In this example, let's aim for level 3 data from Onsala Space Observatory in Sweden, for the month of July in 2021.\n",
    "- We'll step down one directory at a time until we find what we're looking for.\n",
    "- The directory structure is: `station` > `instrument` > `processing_level` > `year` > `month`"
   ]
  },
  {
   "cell_type": "code",
   "execution_count": null,
   "id": "30270447-aabf-4337-91b6-1954074b68ec",
   "metadata": {},
   "outputs": [],
   "source": [
    "# The station we want is Onsala Space Observatory (change line below if you want a different station)\n",
    "loc = \"Onsala\"\n",
    "contents = sftp.listdir(f\"/{loc}\")\n",
    "print(contents)"
   ]
  },
  {
   "cell_type": "code",
   "execution_count": null,
   "id": "77b26591-6f95-4e92-aae3-a162b88af83e",
   "metadata": {},
   "outputs": [],
   "source": [
    "# There is only one instrument at Onsala -- an observatory SG with serial number 54. So we check contents of this folder.\n",
    "inst = \"os054\"\n",
    "contents = sftp.listdir(f\"/{loc}/{inst}\")\n",
    "print(contents)"
   ]
  },
  {
   "cell_type": "code",
   "execution_count": null,
   "id": "dc092ae0-ff49-4d99-b1e4-cd31ff2d49da",
   "metadata": {},
   "outputs": [],
   "source": [
    "# Okay so they have Level 1, 2, and 3 data available. We want level 3.\n",
    "lev = \"Level3\"\n",
    "contents = sftp.listdir(f\"/{loc}/{inst}/{lev}\")\n",
    "print(contents)"
   ]
  },
  {
   "cell_type": "code",
   "execution_count": null,
   "id": "9f50e4ac-6ae8-439f-b490-0b0ff7254883",
   "metadata": {},
   "outputs": [],
   "source": [
    "# Let's see which months are in the 2021 directory.\n",
    "yr = \"2021\"\n",
    "contents = sftp.listdir(f\"/{loc}/{inst}/{lev}/{yr}\")\n",
    "print(contents)"
   ]
  },
  {
   "cell_type": "code",
   "execution_count": null,
   "id": "32092c2b-eae0-4578-9020-61d31f95920c",
   "metadata": {},
   "outputs": [],
   "source": [
    "# The July file is 'IGETS-SG-RESMIN-os054-202107r2.ggp'. That wasn't so bad.\n",
    "fname = \"IGETS-SG-RESMIN-os054-202107r2.ggp\"\n",
    "fpath = f\"/{loc}/{inst}/{lev}/{yr}/{fname}\"\n",
    "print(fpath)"
   ]
  },
  {
   "cell_type": "markdown",
   "id": "8cf3ce6c-6ce7-4d03-b9a8-544688386160",
   "metadata": {},
   "source": [
    "## Step 3: Download file and Close SFTP Session"
   ]
  },
  {
   "cell_type": "code",
   "execution_count": null,
   "id": "2a9f1cf5-589b-4c1b-ba02-ea25759e9fc0",
   "metadata": {},
   "outputs": [],
   "source": [
    "# Use SFTP to get the file we want\n",
    "fout = os.path.join(save_location_local, fname)\n",
    "sftp.get(fpath, fout)\n",
    "\n",
    "# Close the SFTP session and SSH connection\n",
    "sftp.close()\n",
    "ssh.close()"
   ]
  },
  {
   "cell_type": "markdown",
   "id": "cdf049a3-8d09-4d34-96f1-e3edaf0f0946",
   "metadata": {},
   "source": [
    "## Step 4: Import and Plot File\n",
    "- Run the code below to import the .ggp file you downloaded.\n",
    "- Please be aware that the import function might only read a portion of the file, since I have not rigorously designed this according to GGP file specs [discussed here](https://gfzpublic.gfz-potsdam.de/rest/items/item_5003806_1/component/file_5003807/content)"
   ]
  },
  {
   "cell_type": "code",
   "execution_count": null,
   "id": "ae932959-5019-439b-a334-c0b6cdccadc2",
   "metadata": {},
   "outputs": [],
   "source": [
    "# A basic GGP file import function\n",
    "def parse_igets_file(filename):\n",
    "    with open(filename, 'r') as file:\n",
    "        lines = file.readlines()\n",
    "\n",
    "    # Find the line containing variable names\n",
    "    for i, line in enumerate(lines):\n",
    "        if line.startswith(\"yyyymmdd hhmmss\"):\n",
    "            header_line = line.strip()\n",
    "            break\n",
    "    else:\n",
    "        raise ValueError(\"Header with column names not found\")\n",
    "\n",
    "    # Extract column names, skipping yyyymmdd and hhmmss\n",
    "    col_names = header_line.split()[2:]  \n",
    "\n",
    "    # Find the start of the data section\n",
    "    for i, line in enumerate(lines):\n",
    "        if line.strip() == \"77777777\":\n",
    "            data_start_idx = i + 1\n",
    "            break\n",
    "    else:\n",
    "        raise ValueError(\"Data start marker '77777777' not found\")\n",
    "\n",
    "    # Find the first occurrence of 88888888 or 99999999 to stop reading\n",
    "    for j in range(data_start_idx, len(lines)):\n",
    "        if lines[j].strip() in (\"88888888\", \"99999999\"):\n",
    "            data_end_idx = j\n",
    "            break\n",
    "    else:\n",
    "        data_end_idx = len(lines)  # Read until the end if no termination marker is found\n",
    "\n",
    "    # Read raw data lines\n",
    "    raw_data = lines[data_start_idx:data_end_idx]\n",
    "\n",
    "    # Initialize lists to store parsed data\n",
    "    datetime_list = []\n",
    "    data_values = []\n",
    "\n",
    "    for line in raw_data:\n",
    "        parts = line.split()\n",
    "        \n",
    "        # Parse date\n",
    "        yyyymmdd = parts[0]\n",
    "        hhmmss = parts[1].zfill(6)  # Ensure hhmmss is always 6 characters (zero-padded if needed)\n",
    "\n",
    "        # Convert to datetime\n",
    "        dt_str = f\"{yyyymmdd} {hhmmss[:2]}:{hhmmss[2:4]}:{hhmmss[4:]}\"\n",
    "        dt_obj = datetime.strptime(dt_str, \"%Y%m%d %H:%M:%S\")\n",
    "        datetime_list.append(dt_obj)\n",
    "\n",
    "        # Store remaining values as floats\n",
    "        data_values.append([float(x) for x in parts[2:]])\n",
    "\n",
    "    # Convert to NumPy arrays\n",
    "    datetime_array = np.array(datetime_list, dtype=\"datetime64[s]\")\n",
    "    data_array = np.array(data_values)\n",
    "\n",
    "    # Convert to dictionary\n",
    "    data_dict = {\"datetime\": datetime_array}\n",
    "    for i, name in enumerate(col_names):\n",
    "        data_dict[name] = data_array[:, i]\n",
    "\n",
    "    return data_dict\n",
    "\n",
    "# Now parse the file we just downloaded\n",
    "sgdata = parse_igets_file(fout)"
   ]
  },
  {
   "cell_type": "markdown",
   "id": "fee6cac4-16c2-4b90-8d25-ac422a6ecb40",
   "metadata": {},
   "source": [
    "## Step 5: Plot the SG Residual (or another quantity of your choosing)\n",
    "You can change the quantity plotted by setting `key_to_plot` below. The quantities that you can plot are listed below:\n",
    "- `res_fil`: residual in nm/s^2 (after removal of tides, atmospheric loading, and earth rotation effects, with gaps/earthquakes/artifacts filled with synthetic data)\n",
    "- `res_nofil`: residual, unfilled, in nm/s^2\n",
    "- `tides`: solid Earth and ocean tide model (nm/s^2)\n",
    "- `rotation`: Earth rotation effects model (polar motion + length of day) in nm/s^2\n",
    "- `atm_load`: atmospheric loading in nm/s^2\n",
    "- `drift`: secular drift of instrument in nm/s^2\n",
    "- `g_fil`: original gravity (filled)\n",
    "- `p_fil`: original baro pressure (filled) in mbar/hPZ\n",
    "\n",
    "\n",
    "You can adjust the time to be plotted by changing `t1` and `t2`"
   ]
  },
  {
   "cell_type": "code",
   "execution_count": null,
   "id": "e9506b2f-6c94-40a6-8c49-2441b1de1f1d",
   "metadata": {},
   "outputs": [],
   "source": [
    "# Here are the keys (columns) of the imported sg data that you can plot\n",
    "print(list(sgdata.keys()))\n",
    "\n",
    "key_to_plot = \"res_fil\"\n",
    "\n",
    "key_to_label_dict = {\n",
    "    \"res_fil\": \"Filled Gravity Residual\",\n",
    "    \"res_nofil\": \"Non-filled Gravity Residual\",\n",
    "    \"tides\": \"Solid Earth and Ocean Tides\",\n",
    "    \"rotation\": \"Rotation\", \n",
    "    \"atm_load\": \"Atmospheric Loading\",\n",
    "    \"drift\": \"Secular Drift\",\n",
    "    \"g_fil\": \"Filled Gravity\",\n",
    "    \"p_fil\": \"Filled Barometric Pressure\",\n",
    "}\n",
    "\n",
    "# User-defined time range (modify as needed)\n",
    "t1 = \"July 1, 2021 12:00:00\"\n",
    "t2 = \"July 10, 2021 13:30:00\"\n",
    "\n",
    "# Convert to NumPy datetime64 format\n",
    "t1 = np.datetime64(datetime.strptime(t1, \"%B %d, %Y %H:%M:%S\"))\n",
    "t2 = np.datetime64(datetime.strptime(t2, \"%B %d, %Y %H:%M:%S\"))\n",
    "\n",
    "# Filter data within the specified time range\n",
    "mask = (sgdata[\"datetime\"] >= t1) & (sgdata[\"datetime\"] <= t2)\n",
    "time_subset = sgdata[\"datetime\"][mask]\n",
    "res_fil_subset = sgdata[key_to_plot][mask]\n",
    "\n",
    "# Plot the figure\n",
    "plt.figure(figsize=(10, 5))\n",
    "plt.plot(time_subset, res_fil_subset, color=\"b\")\n",
    "plt.xlabel(\"Time [UTC]\")\n",
    "if key_to_plot == \"p_fil\":\n",
    "    units = \"mbar/hPZ\"\n",
    "else:\n",
    "    units = \"nm/s$^2$\"\n",
    "plt.ylabel(f\"{key_to_label_dict[key_to_plot]} [{units}]\")\n",
    "plt.title(f\"{lev} Data at {loc}\")\n",
    "plt.xticks(rotation=45)\n",
    "plt.grid(True)\n",
    "plt.show()"
   ]
  }
 ],
 "metadata": {
  "kernelspec": {
   "display_name": "Python 3 (ipykernel)",
   "language": "python",
   "name": "python3"
  },
  "language_info": {
   "codemirror_mode": {
    "name": "ipython",
    "version": 3
   },
   "file_extension": ".py",
   "mimetype": "text/x-python",
   "name": "python",
   "nbconvert_exporter": "python",
   "pygments_lexer": "ipython3",
   "version": "3.12.8"
  }
 },
 "nbformat": 4,
 "nbformat_minor": 5
}
