{
 "cells": [
  {
   "cell_type": "markdown",
   "metadata": {
    "jp-MarkdownHeadingCollapsed": true
   },
   "source": [
    "# Lab1: Introduction to Python for Geophysics\n",
    "\n",
    "**Course:** UAF GEOS419 - Solid Earth Geophysics  \n",
    "**Instructors**: Bryant Chow and Carl Tape  \n",
    "\n",
    "**Acknowledgement:** \n",
    "This set of notebooks was originally developed by Calum Chamberlain, Finnigan Illsley-Kemp, John Townend and El Mestel at [Victoria University of Wellington-Te Herenga Waka](https://www.wgtn.ac.nz) for use by Earth Science graduate students. They have been modified slightly by Bryant Chow for use in GEOS419: Solid Earth Geophysics, an undergraduate geophysics class at [University of Alaska Fairbanks](https://www.uaf.edu/uaf/).\n",
    "\n",
    "**Motivation:** \n",
    "The notebooks here cover material that we think will be of particular benefit to those students with little or no previous experience of computer-based data analysis. We presume very little background in command-line or code-based computing, and have compiled this material with an emphasis on general tasks that a geophysics student might encounter on a daily basis. "
   ]
  },
  {
   "cell_type": "markdown",
   "metadata": {
    "slideshow": {
     "slide_type": "slide"
    }
   },
   "source": [
    "## Notebook 1: But why programming?\n",
    "\n",
    "1. What, why and how do we program?\n",
    "   - Why programming?\n",
    "   - An example of lots of data\n",
    "   - Why Python?\n",
    "   - Jupyter notebooks\n",
    "2. Using Python on your own computer\n",
    "3. Hello World!\n",
    "------------"
   ]
  },
  {
   "cell_type": "markdown",
   "metadata": {
    "slideshow": {
     "slide_type": "slide"
    }
   },
   "source": [
    "# What, why and how do we program?\n",
    "\n",
    "## Why programming (what's wrong with Excel!?)\n",
    "\n",
    "- **Reproducibility:** If someone can't replicate your \n",
    "  work, why should we trust it to be true?\n",
    "- **Safety:** Your data and your processing should not\n",
    "  overlap.  Your raw data should be sacred.\n",
    "- **Speed:** You want a result, and you want it yesterday... Learn how to write good code \n",
    "    (and change the clock on your computer) and you can...\n",
    "- **Complexity:** Being able to solve complex problems logically, in a way that others can follow\n",
    "    (and reproduce) is essential to natural sciences. *Hint: Writing good code is as much about the*\n",
    "    *quality of your documentation as it is about the quality of your code*.\n",
    "- **Data scale:** Data in natural sciences is noisy, and large. Ideally to understand the natural world\n",
    "    we would have data from every place at every time throughout the Earth. We don't have that, but\n",
    "    our datasets are growing...\n",
    "    \n",
    "\n",
    "\n",
    "<img alt=\"XKCD 2180 spreadsheets\n",
    "    [Cueball is at his computer. In the air on either side of him are an angel version of Cueball, with a halo and wings, and a devil version of Cueball, with horns and a pitchfork. The angel's dialogue appears in regular print, while the devil's dialogue appears in white print in black speech balloons.]\n",
    "    Angel: Don't use a spreadsheet! Do it right.\n",
    "    Devil: But a spreadsheet would be so easy.\n",
    "    Angel: In the long run you'll regret it!\n",
    "    [Closeup on Cueball, the angel, and the devil.]\n",
    "    Angel: Take the time to write real code.\n",
    "    Devil: Just paste the data! Tinker until it works!\n",
    "    Devil: Build a labyrinth of REGEXREPLACE() and ARRAYFORMULA()!\n",
    "    Devil: Feel the power!\n",
    "    [Closeup on the devil.]\n",
    "    Angel (off-panel): Fight the temptation!\n",
    "    Devil: Ever tried QUERY() in Google Sheets? It lets you treat a block of cells like a database and run SQL queries on them.\n",
    "    [Another shot of Cueball at his computer with the angel and devil at either side.]\n",
    "    Angel: Don't listen to\n",
    "    Angel: ...wait, really?\n",
    "    Devil: Yes, and let me tell you about IMPORTHTML()...\n",
    "    Angel: Oooh...\" align=\"center\" style=\"width:60%\" src=\"https://imgs.xkcd.com/comics/spreadsheets.png\">"
   ]
  },
  {
   "cell_type": "markdown",
   "metadata": {
    "slideshow": {
     "slide_type": "slide"
    }
   },
   "source": [
    "## An example of lots of data\n",
    "\n",
    "Let's consider what happens if we're dealing with data from a fairly standard seismological network. \n",
    "\n",
    "- long durations (multi-year);\n",
    "- multiple locations;\n",
    "- modest sampling rates.\n",
    "\n",
    "For example: Seismic station [COLA](https://earthquake.alaska.edu/partnerstations/COLA) operating at UAF's College International Geophysical Observatory (CIGO) has been operating since 1996."
   ]
  },
  {
   "cell_type": "markdown",
   "metadata": {
    "slideshow": {
     "slide_type": "slide"
    }
   },
   "source": [
    "COLA's seismometer records at 100Hz (100 samples per second). How many samples per day does it record? First we need to know how many seconds there are per day."
   ]
  },
  {
   "cell_type": "code",
   "execution_count": null,
   "metadata": {
    "execution": {
     "iopub.execute_input": "2024-02-20T20:56:37.279684Z",
     "iopub.status.busy": "2024-02-20T20:56:37.279174Z",
     "iopub.status.idle": "2024-02-20T20:56:37.284285Z",
     "shell.execute_reply": "2024-02-20T20:56:37.283868Z"
    },
    "slideshow": {
     "slide_type": "fragment"
    }
   },
   "outputs": [],
   "source": [
    "seconds_per_day = 60 * 60 * 24\n",
    "print(f\"There are {seconds_per_day} seconds in a day\")"
   ]
  },
  {
   "cell_type": "markdown",
   "metadata": {
    "slideshow": {
     "slide_type": "slide"
    }
   },
   "source": [
    "How many samples per day?"
   ]
  },
  {
   "cell_type": "code",
   "execution_count": null,
   "metadata": {
    "execution": {
     "iopub.execute_input": "2024-02-20T20:56:37.311092Z",
     "iopub.status.busy": "2024-02-20T20:56:37.310896Z",
     "iopub.status.idle": "2024-02-20T20:56:37.313696Z",
     "shell.execute_reply": "2024-02-20T20:56:37.313196Z"
    },
    "slideshow": {
     "slide_type": "fragment"
    }
   },
   "outputs": [],
   "source": [
    "sampling_rate = 100.0\n",
    "samples_per_day = seconds_per_day * sampling_rate\n",
    "print(f\"COLA records {samples_per_day} samples per day\")"
   ]
  },
  {
   "cell_type": "markdown",
   "metadata": {
    "slideshow": {
     "slide_type": "slide"
    }
   },
   "source": [
    "So, >8.5 million samples per day.  But that is just for one channel: COLA has three channels, a vertical and two horizontals, so how many samples per day for one station?"
   ]
  },
  {
   "cell_type": "code",
   "execution_count": null,
   "metadata": {
    "execution": {
     "iopub.execute_input": "2024-02-20T20:56:37.315465Z",
     "iopub.status.busy": "2024-02-20T20:56:37.315326Z",
     "iopub.status.idle": "2024-02-20T20:56:37.317955Z",
     "shell.execute_reply": "2024-02-20T20:56:37.317491Z"
    },
    "slideshow": {
     "slide_type": "fragment"
    }
   },
   "outputs": [],
   "source": [
    "number_of_channels = 3\n",
    "samples_per_day_per_station = samples_per_day * number_of_channels\n",
    "print(f\"One station records {samples_per_day_per_station} samples per day\")"
   ]
  },
  {
   "cell_type": "markdown",
   "metadata": {
    "slideshow": {
     "slide_type": "slide"
    }
   },
   "source": [
    "Nearly 26 million samples per day! So how many samples is that over the lifetime of COLA since it was deployed in 1996?"
   ]
  },
  {
   "cell_type": "code",
   "execution_count": null,
   "metadata": {
    "execution": {
     "iopub.execute_input": "2024-02-20T20:56:37.323529Z",
     "iopub.status.busy": "2024-02-20T20:56:37.323393Z",
     "iopub.status.idle": "2024-02-20T20:56:37.326087Z",
     "shell.execute_reply": "2024-02-20T20:56:37.325644Z"
    },
    "slideshow": {
     "slide_type": "fragment"
    }
   },
   "outputs": [],
   "source": [
    "days_per_year = 365.25  # Accounting for leap years\n",
    "samples_per_year = days_per_year * samples_per_day_per_station\n",
    "print(f\"COLA records about {samples_per_year} samples per year.\")\n",
    "samples_since_start = samples_per_year * (2025 - 1996)\n",
    "print(f\"Since 1996 COLA has recorded {samples_since_start} samples, that's {samples_since_start:.2E} samples!\")"
   ]
  },
  {
   "cell_type": "markdown",
   "metadata": {
    "slideshow": {
     "slide_type": "fragment"
    }
   },
   "source": [
    "274 **billion** samples, that's the same order of magnitude as stars in the Milky Way galaxy! Try working with that in a spreadsheet... and that is just **one** station in the Alaska Earthquake Center's network of instruments across the state (https://earthquake.alaska.edu/network).\n",
    "\n",
    "Of course, this is just one example of a large dataset - and it's hard to imagine a situation in which a scientist needed to work with all 274 billion measurements in a completely unstructured way. However, the data from COLA gives an idea about the enourmous volumes of data that could be encountered in geophysics."
   ]
  },
  {
   "cell_type": "markdown",
   "metadata": {
    "slideshow": {
     "slide_type": "slide"
    }
   },
   "source": [
    "## Why Python?\n",
    "\n",
    "In this course we will be using the Python programming language to help us learn how to automate tasks and analyze data in geophysics. Python is a relatively friendly language, but it still has lots of **rules** that you need to follow to make codes run. In these notebooks we will introduce some of those rules and start you on your way to \n",
    "[zen](https://www.python.org/dev/peps/pep-0020/).\n",
    "\n",
    "So, why Python?\n",
    "1. Open-source, community-driven (i.e., free!) software;\n",
    "2. Simple syntax, fast to make mistakes and helpful error messages;\n",
    "3. Community libraries to do lots of complex tasks \n",
    "   (e.g. [ObsPy](https://github.com/obspy/obspy/wiki) for seismology, [CartoPy](https://pypi.org/project/Cartopy/) for making maps and handling geographic projections, and [SciPy](https://www.scipy.org/) as an umbrella environment for computational science)\n",
    "\n",
    "<img alt=\"xkcd 353 Python\n",
    "    [A Cueball-like friend is talking to Cueball, who is floating in the sky.]\n",
    "    Friend: You're flying! How?\n",
    "    Cueball: Python!\n",
    "    Cueball: I learned it last night! Everything is so simple!\n",
    "    Cueball: Hello world is just print 'Hello, World!'\n",
    "    Friend: I dunno... Dynamic typing? Whitespace?\n",
    "    Cueball: Come join us! Programming is fun again! It's a whole new world up here!\n",
    "    Friend: But how are you flying?\n",
    "    Cueball: I just typed 'import antigravity'\n",
    "    Friend: That's it?\n",
    "    Cueball: ...I also sampled everything in the medicine cabinet for comparison.\n",
    "    Cueball: But I think this is the python.\n",
    "          \" align=\"center\" style=\"width:60%\" src=\"https://imgs.xkcd.com/comics/python.png\">\n",
    "\n",
    "Python itself is a useful language in its own right, but one of *the best* things about Python is all the packages written to extend it. This means that you often don't have to write (much of) your own code! Most of the time someone out there knows better than you how to do something, so you get to use their code and focus on the important things.\n",
    "\n",
    "Most Python packages (and all good ones) have documentation.  If you find yourself stuck, or thinking *I wish I could do this*, it is worth having a search online for what you want, or what you are stuck on. "
   ]
  },
  {
   "cell_type": "markdown",
   "metadata": {
    "slideshow": {
     "slide_type": "slide"
    }
   },
   "source": [
    "## What are Jupyter notebooks and how do we use them?\n",
    "\n",
    "This is a Jupyter notebook! [Jupyter notebooks](https://jupyter.org/) provide inline interactive Python shells - i.e. an interface to entering and running real Python code - interspersed with explanations and other details that are formatted in something known as \"markdown\". \n",
    "\n",
    "Notebooks are increasingly used to document the actual code scientists are using to do their analysis alongside the interpretations and analysis. In fact there are now [some scientific papers have been written in Jupyter notebooks](https://github.com/jupyter/jupyter/wiki#a-gallery-of-interesting-jupyter-notebooks) which enables people to test their work directly. They are a great way to *show your work* while explaining what you did in more extensive prose. We are using them for teaching purposes because they let us play with the code and explain the ideas behind the code.\n",
    "\n",
    "Notebooks like the ones we've prepared for these modules are designed to be used interactively in a web browser.  You should run through them, change some values, see what works, try and play\n",
    "with variables and experiment.  There will be sections that you are expected to fill in\n",
    "marked as **Exercise:**.  Please ask if and when you have problems.\n",
    "\n",
    "In these notebooks we'll provide a brief introduction to Python for newcomers, providing you with the skills and understanding to complete labs and homeworks in this course. There are many other great tutorials out there for those who want to go beyound what we learn here:\n",
    "- [The Python tutorial](https://docs.python.org/3/tutorial/)\n",
    "- [LearnPython](https://www.learnpython.org/)\n",
    "- [Data Carpentry](https://datacarpentry.org/lessons/) and [Software Carpentry](https://software-carpentry.org/) for data literacy and research computing skills\n",
    "\n",
    "Let us know if you want to play around with any other data and we can try to accomodate you!"
   ]
  },
  {
   "cell_type": "markdown",
   "metadata": {},
   "source": [
    "# Getting started: \"Hello World!\"\n",
    "\n",
    "The first program written in most languages is a simple \"Hello World!\" program, that just outputs the phrase \"Hello World!\"\n",
    "to the screen. In Python this is embarassingly simple (run the code by clicking the arrow button up the top, or by hitting\n",
    "*ctrl-enter*):"
   ]
  },
  {
   "cell_type": "code",
   "execution_count": null,
   "metadata": {
    "execution": {
     "iopub.execute_input": "2024-02-20T20:56:37.328015Z",
     "iopub.status.busy": "2024-02-20T20:56:37.327859Z",
     "iopub.status.idle": "2024-02-20T20:56:37.330120Z",
     "shell.execute_reply": "2024-02-20T20:56:37.329686Z"
    }
   },
   "outputs": [],
   "source": [
    "print(\"Hello World!\")"
   ]
  },
  {
   "cell_type": "markdown",
   "metadata": {},
   "source": [
    "What we did is call the `print` function with the *argument* `\"Hello World!\"`. Encapsulating *Hello World!* in\n",
    "quotes tells Python that we want this to be a *string* type. Strings hold characters, other types hold other\n",
    "data types.\n",
    "\n",
    "The `print` function takes whatever we gave it as an argument and prints that to screen (we see the output of our\n",
    "code in Jupyter notebooks just beneath the *cell* that we ran the code in).\n",
    "\n",
    "In the next notebook, we'll look at different data types and start playing with real data."
   ]
  }
 ],
 "metadata": {
  "kernelspec": {
   "display_name": "Python 3 (ipykernel)",
   "language": "python",
   "name": "python3"
  },
  "language_info": {
   "codemirror_mode": {
    "name": "ipython",
    "version": 3
   },
   "file_extension": ".py",
   "mimetype": "text/x-python",
   "name": "python",
   "nbconvert_exporter": "python",
   "pygments_lexer": "ipython3",
   "version": "3.12.8"
  }
 },
 "nbformat": 4,
 "nbformat_minor": 4
}
