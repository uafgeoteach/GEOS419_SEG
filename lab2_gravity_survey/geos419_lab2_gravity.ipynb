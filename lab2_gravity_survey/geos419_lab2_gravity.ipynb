{
 "cells": [
  {
   "cell_type": "markdown",
   "id": "53d4e3d8-2b0f-468b-bab9-a84ae4742a14",
   "metadata": {},
   "source": [
    "# Lab2: Gravity Survey and Height of Elvey\n",
    "\n",
    "**Course:** UAF GEOS419 - Solid Earth Geophysics  \n",
    "**Instructors**: Bryant Chow and Carl Tape  \n",
    "**Date**: Jan 28, 2025\n",
    "\n",
    "### Motivation\n",
    "\n",
    "- This Jupyter-notebook lab follows from last week, where we took gravity measurements in the stairwell of Elvey building at all floors, and also took direct measurements of the building and each floor with a measuring tape.  \n",
    "- This week we will analyze some different gravity data in order to understand: the acceleration due to gravity is in Fairbanks, how the acceleration due to gravity changes with height, and ultimately use this knowledge to determine the height of Elvey building.   \n",
    "- These labs are related to Chapters 3 and 4 in Lowrie and Fichtner (LF), which cover Gravity and the Figure of the Earth [ch3] and Gravity Surveying [ch4].\n",
    "\n",
    "### Instructions\n",
    "- Please work through the lab exercises below. Try to do all your work in this notebook.\n",
    "- Run the `Import Cell` before starting in on the exercises, this will bring in necessary packages.\n",
    "- Use `Code` cells for doing any math you need, and for plotting data, using Python.\n",
    "- Use `Markdown` cells to write answers to questions.\n",
    "- If you need a refresher on Python or Jupyter, or have questions on how to do something specific, see resources below or feel free to ask!\n",
    "\n",
    "### Resources\n",
    "1. **GEOS419 Lab 1 (Intro Python):** https://github.com/uafgeoteach/GEOS419_SEG/tree/main/lab1_intro_python\n",
    "2. **LearnPython:** https://www.learnpython.org/ \n",
    "3. **Stack Overflow:** Great forum-based resource. Query using Google, for example you can search \"how to plot a line with Matplotlib stackoverflow\" \n",
    "4. **Absolute Gravity Data:** https://bgi.obs-mip.fr/data-products/gravity-databases/absolute-gravity-data/#/\n",
    "5. **Course Website:** https://bryantchow.com/teaching/geos419"
   ]
  },
  {
   "cell_type": "code",
   "execution_count": 8,
   "id": "a518cd82-36e3-431d-8296-563c4368b691",
   "metadata": {},
   "outputs": [],
   "source": [
    "# IMPORT CELL - Please run this cell before proceeding\n",
    "import numpy as np\n",
    "import matplotlib.pyplot as plt\n",
    "%matplotlib widget"
   ]
  },
  {
   "cell_type": "markdown",
   "id": "a97b385a-b5ea-421e-9e07-e32060078181",
   "metadata": {},
   "source": [
    "# Problem 1: Gravity at Elvey\n",
    "\n",
    "In your textbook Lowrie and Fichtner (referred to as LF from here on) Section 4.1.3.2, the authors derive an equation to calculate the vertical gravity gradient, or how much gravity changes as you increase your distance from the Earth. The **gravity gradient equation** is derived by seeing how the acceleration due to gravity, $g=-Gm/r^2$, changes with respect to distance $r$:\n",
    "\n",
    "$$ \\frac{\\partial g}{\\partial r} = \\frac{\\partial}{\\partial r}\\left( -G \\frac{m}{r^2} \\right) = \\frac{2Gm}{r^3} $$\n",
    "\n",
    "where $m$ is the mass of the Earth, $G$ is the universal gravitational constant, and $r$ is the radius of the Earth to the location of an observer.  \n",
    "Remember that $g$ is sometimes given in units of $Gal$ where $1Gal = 1cm\\cdot s^{-1}$.\n",
    "\n",
    "\n",
    "## Questions\n",
    "1. In the **gravity gradient equation** make a substitution to derive an equation for $\\partial g/\\partial r$ that is dependent on $1/r$, not $1/r^3$, and has units $1/s^2$. (note: write the equation like `dg/dr = XYZ/r`)\n",
    "2. Using the reference ellipsoid figure below (LF Fig. 3.22) as reference, determine the radius of the Earth, $r$, at the latitude of the Elvey building *(use Google Maps or similar to find the latitude)*.\n",
    "3. Determine $g$ at Elvey building using $m$ and $G$ from your textbook or online, and $r$ from Problem 1.2. Express your answer in units of $m/s^2$ **and** $mGal$.\n",
    "4. Using the value of $g$ you just calculated, what is the gravity gradient $\\partial g/\\partial r$ at Elvey building? Express your answer in units of $1/s^2$\n",
    "5. Using the height of the building that you measured directly, how much do you expect gravity to change by the top floor of Elvey building? Express your answer in $m/s^2$ **and** $mGal$.\n",
    "6. Provide some uncertainty (e.g., $dg/dr= 1234 \\pm 5$ mGal/m) on your answer in (4) by also considering the height of the building that others in the class measured.\n",
    "\n",
    "\n",
    "![Ref Ellips](3_22_reference_ellipsoid.jpg)\n"
   ]
  },
  {
   "cell_type": "code",
   "execution_count": 9,
   "id": "32176ad3-f79b-49ce-bd2f-4b4f6f33f26c",
   "metadata": {},
   "outputs": [],
   "source": [
    "# Your answers here"
   ]
  },
  {
   "cell_type": "markdown",
   "id": "a1b856fa-40cb-4a65-a5df-a0d99d825308",
   "metadata": {},
   "source": [
    "# Problem 2: Normal Gravity Formula\n",
    "\n",
    "From LF 3.4.4, the direction of gravity at a point is defined as perpendicular to the equipotential surface through this point. This defines the *vertical* at this point. As a consequence of the spheroidal shape of the Earth, the vertical direction is generally not radial (pointing to the center of the Earth), which is what the gravitational acceleration formula above assumes (i.e., that the force of gravity points towards the center of mass). You can see this drawn out in the Figure shown in Problem 1, where $g$ does not point to the center of the Earth.\n",
    "\n",
    "As a consequence of this, geodesists have come up with a **normal gravity formula**, which provies a formula for the gravitational acceleration on the reference ellipsoid that is more representative of what a gravimeter would be measuring at the surface of the Earth. The normal gravity formula also takes into account the effects of the rotating Earth and allows calculation of normal gravity at any latitude to an accuracy of 0.1 mGal. The formula is defined as:\n",
    "\n",
    "$$ g_n(\\lambda) = g_e(1 + \\beta_1 \\sin^2\\lambda + \\beta_2 \\sin^2 2\\lambda) $$\n",
    "\n",
    "The constants for this formula are constantly refined as we improve our understanding of the Earth, and were defined in 1980 for the Geodetic Reference System as:  \n",
    "\n",
    "$g_e=9.780327$ m s$^{-2}$;\n",
    "$\\beta_1=5.30244 \\times 10^{-3}$;\n",
    "$\\beta_2=-5.8\\times10^{-6}$\n",
    "\n",
    "## Questions\n",
    "\n",
    "1. Calculate $g_n(\\lambda)$ using the formula and constants provided above, and the latitude of Elvey building you found in Problem 1.2\n",
    "2. Calculate $g_n(\\lambda)$ at the North Pole (**not** North Pole, AK!) and at the equator. How much does the acceleration due to gravity change from pole to equator? Express your answer in units of $mGal$.\n",
    "3. Explain what causes the gravity $g_n(\\lambda)$ to change from pole to equator, there are three reasons that were discussed in last lecture, you can give two of the three.\n",
    "4. How does the value of $g_n(\\lambda)$ differ from the value of $g$ you calculated in Problem 1.3? Express your answer in terms of $mGal$. \n",
    "5. Using the value of $g_n(\\lambda)$ you calculated in Problem 2.1, determine the gravity gradient $\\partial g/\\partial r$ at Elvey building. How much does your value differ from what you calculated in Problem 1.4. Express your answer in percentage difference.\n",
    "6. Which value of gravity gradient $\\partial g/\\partial r$ would you trust more? Why?"
   ]
  },
  {
   "cell_type": "code",
   "execution_count": 10,
   "id": "7bede914-9452-40e5-8a57-0b6c94c01a2c",
   "metadata": {},
   "outputs": [],
   "source": [
    "# Your answers here"
   ]
  },
  {
   "cell_type": "markdown",
   "id": "706b0a4d-bad5-457b-8af1-700e56e64a4e",
   "metadata": {},
   "source": [
    "# Problem 3: Absolute Gravity Measurements\n",
    "\n",
    "Since the gravimeter we used in last week's lab is a relative instrument, we need to pin down one reference point to an absolute measurement. If we were being serious scientists, we would have taken atleast one gravimeter measurement directly adjacent to an absolute gravimeter. Instead we'll have to settle with finding the closest reference station and use that value as our reference. \n",
    "\n",
    "Fortunately, absolute gravity measurements, like many long-standing geophysical measurements are taken repeatedly at fixed locations and their data and metadata are provided freely to the public.\n",
    "\n",
    "## Questions\n",
    "1. Go to the [following website](https://bgi.obs-mip.fr/data-products/gravity-databases/absolute-gravity-data/#/) and find the closest gravity reference station to Elvey Building (Website: https://bgi.obs-mip.fr/data-products/gravity-databases/absolute-gravity-data/#/).  \n",
    "  a. What is the gravity station you chose?  \n",
    "  b. Who hosts this station? Who operates this station? (*note: they are different institutions*)  \n",
    "  c. What is the latitude and elevation at this station?  \n",
    "  d. What is the value of gravitational acceleration listed for this station? Please express your answer in $m/s^2$ and $mGal$  \n",
    "  e. What is the listed gravity gradient at this location? Express your answer in units of $1/s^2$  \n",
    "2. Google the name of the station you chose and write a sentence or two on what this place is and what they do there.  \n",
    "3. By what percent does the listed gravity gradient at this location differ from our estimated values you calculated in Problems 1 and 2? Which estimated value is closer? Is that what you would have expected given what you know about how these values were calculated?\n",
    "4. From the information provided, can you tell what type of measurements was used to obtain the value of $g$? (*note: we will learn more about absolute gravity measurements in the next lecture*)\n",
    "5. Now look at the other gravity measurement locations in **Alaska**  \n",
    "  a. How many other locations are there in Alaska?  \n",
    "  b. Where are they? Who **operates** them?  \n",
    "6. Why do you think this agency in particular cares about long-term gravity measurements in these locations in Alaska? Write a few sentences discussing.\n",
    "7. Now look at the other gravity measurement locations in the **continental U.S.**    \n",
    "  a. The agency that operates the AK stations also operates the U.S. Absolute Gravity Network (USAGN), mainly shown here. Is the USAGN uniformly distributed around the country? If not, where are stations concentrated?  \n",
    "  b. Pick **two** locations where many of instruments are concentrated in a region, discuss why you think we might care about measuring long-term gravity in this location.\n",
    "8. Now go look at Europe. Does Europe invest more or less about gravity measurements than the U.S.?"
   ]
  },
  {
   "cell_type": "code",
   "execution_count": null,
   "id": "e6196c02-9ce7-49dc-9520-e50d0d244e0a",
   "metadata": {},
   "outputs": [],
   "source": [
    "# Your answers here"
   ]
  },
  {
   "cell_type": "markdown",
   "id": "77b8a00e-6a86-462e-b89e-ce844055495d",
   "metadata": {},
   "source": [
    "# Problem 4: Gravimeter Measurements\n",
    "\n",
    "Here are the values we measured for gravity at each floor during last week's lab (1/21/25)\n",
    "\n",
    "| Floor | Value 1  | Value 2  | Value 3 |\n",
    "| --- | --- | --- | --- | \n",
    "| 1 |  5633.78  | 5633.80   | 5633.90   |\n",
    "| 2 |  5632.28  | 5632.60   | 5632.35   |\n",
    "| 3 |  5630.79  | 5630.76   | 5630.81   |\n",
    "| 4 |  5629.70  | 5629.71   | 5629.69   |\n",
    "| 5 |  5628.30  | 5628.52   | 5628.75   |\n",
    "| 6 |  5627.40  | 5627.33   | 5627.50   |\n",
    "| 7 |  5626.40  | 5626.32   | 5626.29   |\n",
    "| 8 |  5625.06  | 5625.10   | 5625.01   |\n",
    "\n",
    "Note that all the values are listed in units of $mGal$, but remember that the gravimeter measures **relative** acceleration due to gravity, so the absolute magnitude of the values is not important, just their relative differences. \n",
    "\n",
    "Let's assume that the **first** floor of Elvey building is our reference floor, and is at the same height as the reference station we looked at in Problem 3 *(this is actually pretty accurate, if you do the Cycling route option between these locations on Google Maps, both locations are approximately 600 ft $\\approx$ 180m elevation)*.\n",
    "\n",
    "> **Quick note on plotting**  \n",
    "> To plot data points, you can use the following code block. You'll need to modify the values of `x` and `y` to fit your own data\n",
    "> ```python\n",
    "> x = [0, 1, 2, 3, 4, 5]\n",
    "> y = [10, 15, 35, 64, 88, 100]\n",
    "> plt.plot(x, y)\n",
    "> plt.xlabel(\"X axis\")\n",
    "> plt.ylabel(\"Y axis\")\n",
    "> plt.show()\n",
    ">```\n",
    "\n",
    "## Questions\n",
    "\n",
    "1. Find the **mean** and **standard deviation** of our measurements for each floor of Elvey building\n",
    "2. Calculate the difference of measurements ($\\Delta g$) for each floor relative to Floor 1. Express $\\Delta g$ in units of $mGal$.\n",
    "3. Plot the value $\\Delta g$ against floor number, how does $g$ change as we go up in floors. Does this function look linear?\n",
    "4. Using the gravity gradients from Problems 1, 2 and 3, calculate the total height of the building. How different are your values? What is the uncertainty in your measurement?\n",
    "5. Using the gravity gradients from Problems 1, 2 and 3, calculate the height of each floor. How do these compare to your direct measurements? What is the uncertainty?\n",
    "6. Make a plot of floor number vs. floor height calculated in Problem 4.5. How do floor heights change as you go up the building? From your intuition on how buildings are constructed, does the height of each floor make sense? Write a few words describing why or why not.\n",
    "7. Based on your experience, do you think that taking gravity measurements is a reliable way to determine the height of a building? "
   ]
  },
  {
   "cell_type": "code",
   "execution_count": null,
   "id": "da2d7513-dae7-4e41-89ec-89ccd97b4210",
   "metadata": {},
   "outputs": [],
   "source": [
    "# Your answers here"
   ]
  },
  {
   "cell_type": "markdown",
   "id": "7b498351-df1a-49bb-bf5c-121978190f91",
   "metadata": {},
   "source": [
    "# Problem 5: Free Fall Experiments\n",
    "\n",
    "In previous iterations of this class, students were allowed to drop items off the roof of the Elvey building to determine the height of the building through the free-fall method. We can’t do this anymore, sadly, but we can benefit from their historical data, free spirit, and looser of health and safety restrictions.\n",
    "\n",
    "## Questions\n",
    "1. In the parking lot of Elvey building, a ball dropped from a known height of 7.32 m took 1.0675 s to reach the ground. Calculate the acceleration of gravity $g$ using these values.\n",
    "2. A ball dropped from the top of Elvey building took 2.297 $\\pm$ 0.16 s to reach the ground. Using the value of $g$ you just calculated, determine the height of Elvey building.\n",
    "3. How does the height of Elvey building you just calculated compare with all the other height measurements you took?"
   ]
  },
  {
   "cell_type": "code",
   "execution_count": null,
   "id": "ff68f40a-727a-4a53-91d2-61e0ac7ab309",
   "metadata": {},
   "outputs": [],
   "source": [
    "# Your answers here"
   ]
  },
  {
   "cell_type": "markdown",
   "id": "8e1599d4-59c7-40cd-b4a4-2a4724ac0348",
   "metadata": {},
   "source": [
    "# Problem N\n",
    "Approximately how much time did you spend on this lab assignment? Did you finish the lab? If not, what problem and part number did you get to?\n",
    "Feel free to suggest improvements here."
   ]
  },
  {
   "cell_type": "markdown",
   "id": "5f4b096b-aa44-4f4b-a777-8a2c7e073cba",
   "metadata": {},
   "source": []
  }
 ],
 "metadata": {
  "kernelspec": {
   "display_name": "Python 3 (ipykernel)",
   "language": "python",
   "name": "python3"
  },
  "language_info": {
   "codemirror_mode": {
    "name": "ipython",
    "version": 3
   },
   "file_extension": ".py",
   "mimetype": "text/x-python",
   "name": "python",
   "nbconvert_exporter": "python",
   "pygments_lexer": "ipython3",
   "version": "3.12.8"
  }
 },
 "nbformat": 4,
 "nbformat_minor": 5
}
