{
 "cells": [
  {
   "cell_type": "markdown",
   "id": "1bc1dfaa-321f-4089-ac09-24a3c4a842a0",
   "metadata": {},
   "source": [
    "# Lab2: Gravity Survey and Height of Elvey\n",
    "\n",
    "**Course:** UAF GEOS419 - Solid Earth Geophysics  \n",
    "**Instructors**: Bryant Chow and Carl Tape  \n",
    "\n",
    "**Motivation:** \n",
    "In the lab session this week, we will analyze the gravimeter data, the direct measurement data, and pre-collected free-fall data to determine the height of Elvey building.   \n",
    "\n",
    "-------\n",
    "\n",
    "# Part 1\n",
    "\n",
    "In your textbook Lowrie and Fichtner (referred to as LF from here on), the authors derive an equation to calculate the vertical gravity gradient, or how much gravity changes as you increase your distance from the Earth.  \n",
    "The equation they give is a derivate which is solved below, giving us the \n",
    "\n",
    "$$ \\frac{\\partial g}{\\partial r} = \\frac{\\partial}{\\partial r}\\left( -G \\frac{m}{r^2} \\right) = \\frac{2Gm}{r^3} $$"
   ]
  },
  {
   "cell_type": "code",
   "execution_count": null,
   "id": "2ceb4fb9-2a60-4b14-932a-8defb0c51845",
   "metadata": {},
   "outputs": [],
   "source": []
  }
 ],
 "metadata": {
  "kernelspec": {
   "display_name": "Python 3 (ipykernel)",
   "language": "python",
   "name": "python3"
  },
  "language_info": {
   "codemirror_mode": {
    "name": "ipython",
    "version": 3
   },
   "file_extension": ".py",
   "mimetype": "text/x-python",
   "name": "python",
   "nbconvert_exporter": "python",
   "pygments_lexer": "ipython3",
   "version": "3.12.8"
  }
 },
 "nbformat": 4,
 "nbformat_minor": 5
}
