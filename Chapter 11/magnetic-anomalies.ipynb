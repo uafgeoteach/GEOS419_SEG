{
 "cells": [
  {
   "cell_type": "markdown",
   "metadata": {},
   "source": [
    "# Magnetic anomalies\n",
    "\n",
    "In this exercise, we will compute and visualize the magnetic anomalies of various geometric shapes (sphere, cylinder, block) below the surface of the Earth. We will see that, despite the differences in shape of these bodies, their magnetic anomalies can be quite similar. This will have implications for the measurement accuracy needed to infer the geometry of a magnetized body. Furthermore, we will apply Poisson's relation to compute the vertical density gradient based on the magnetic anomalies."
   ]
  },
  {
   "cell_type": "markdown",
   "metadata": {},
   "source": [
    "## 0. Import Python packages\n",
    "\n",
    "We start by importing some Python packages for basic math and plotting. Furthermore, we define the magnetic permeability constant $\\mu_0$."
   ]
  },
  {
   "cell_type": "code",
   "execution_count": 2,
   "metadata": {
    "collapsed": true
   },
   "outputs": [],
   "source": [
    "import numpy as np\n",
    "import matplotlib.pyplot as plt\n",
    "\n",
    "# Permeability constant [N/A^2]\n",
    "mu=4.0*np.pi*10e-7"
   ]
  },
  {
   "cell_type": "markdown",
   "metadata": {},
   "source": [
    "## 1. Magnetic anomalies of a sphere and a cylinder\n",
    "\n",
    "We first implement the magnetic anomalies of a sphere (Eq. 11.25) and of a horizontal cylinder (Eq. 11.27). For this, we choose some arbitrary values for depth, radii and the magnetization contrast."
   ]
  },
  {
   "cell_type": "code",
   "execution_count": 36,
   "metadata": {},
   "outputs": [],
   "source": [
    "# Depth of the sphere [m]\n",
    "z_sphere=10.0\n",
    "# Radius of the sphere [m]\n",
    "R_sphere=1.0\n",
    "# Magnetization contrast [A/m]\n",
    "dMz_sphere=1.0e-3\n",
    "\n",
    "x=np.linspace(-30.0,30.0,100)\n",
    "\n",
    "dBz_sphere=(mu/3.0)*R_sphere**3*dMz_sphere*(2.0*z_sphere**2-x**2)/(z_sphere**2+x**2)**(5.0/2.0)"
   ]
  },
  {
   "cell_type": "code",
   "execution_count": 37,
   "metadata": {
    "collapsed": true
   },
   "outputs": [],
   "source": [
    "# Depth of the cyliner [m]\n",
    "z_cylinder=10.0\n",
    "# Radius of the cylinder [m]\n",
    "R_cylinder=1.0\n",
    "# Magnetization contrast [A/m]\n",
    "dMz_cylinder=1.0e-3\n",
    "\n",
    "dBz_cylinder=(mu/2.0)*R_cylinder**2*dMz_cylinder*(z_cylinder**2-x**2)/(z_cylinder**2+x**2)**2"
   ]
  },
  {
   "cell_type": "code",
   "execution_count": 39,
   "metadata": {},
   "outputs": [
    {
     "data": {
      "image/png": "[encoded data removed]",
      "text/plain": [
       "<Figure size 432x288 with 1 Axes>"
      ]
     },
     "metadata": {},
     "output_type": "display_data"
    }
   ],
   "source": [
    "# Plot\n",
    "plt.plot(x,dBz_cylinder,'k')\n",
    "plt.plot(x,dBz_sphere,'r')\n",
    "plt.xlabel(r'$x$ [m]')\n",
    "plt.ylabel(r'$\\Delta B_z$ [T]')\n",
    "plt.title('cylinder (black), sphere (red)')\n",
    "plt.grid()\n",
    "plt.show()"
   ]
  },
  {
   "cell_type": "markdown",
   "metadata": {},
   "source": [
    "## 2. Exercises\n",
    "\n",
    "1) In addition to the magnetic anomalies of a sphere and a horizontal cylinder, implement and plot the magnetic anomaly of a horizontal crustal block (Eq. 11.31).\n",
    "\n",
    "2) Manually adjust the geometric parameters of the cylinder and the block, using trial and error, such that their respective magnetic anomalies resemble the magnetic anomaly of the sphere most closely. (Multiple solutions are possible. This only needs to be approximate.) Which measurement accuracy would be required to distinguish between these three different shapes?\n",
    "\n",
    "3) Implement Poisson's relation to compute the vertical gravity gradient, $\\partial g_z/\\partial z$, building on the above computations."
   ]
  }
 ],
 "metadata": {
  "kernelspec": {
   "display_name": "Python 3",
   "language": "python",
   "name": "python3"
  },
  "language_info": {
   "codemirror_mode": {
    "name": "ipython",
    "version": 3
   },
   "file_extension": ".py",
   "mimetype": "text/x-python",
   "name": "python",
   "nbconvert_exporter": "python",
   "pygments_lexer": "ipython3",
   "version": "3.6.3"
  }
 },
 "nbformat": 4,
 "nbformat_minor": 2
}
